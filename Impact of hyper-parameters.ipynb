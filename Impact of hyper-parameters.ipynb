{
 "cells": [
  {
   "cell_type": "code",
   "execution_count": 1,
   "id": "09a74cc9",
   "metadata": {},
   "outputs": [],
   "source": [
    "import numpy as np\n",
    "import matplotlib.pyplot as plt"
   ]
  },
  {
   "cell_type": "code",
   "execution_count": null,
   "id": "de2c2f71",
   "metadata": {},
   "outputs": [],
   "source": [
    "# Data\n",
    "k = np.array([3, 5, 10, 20, 80, 160, 320, 640])\n",
    "mlp_acc = np.array([72.65, 72.41, 73.14, 72.45, 71.45, 71.54, 70.78, 69.09])\n",
    "mlp_mia_auc = np.array([51.42, 51.65, 51.15, 50.93, 50.77, 50.45, 50.07, 50.38])\n",
    "\n",
    "# Plotting\n",
    "fig, axs = plt.subplots(1, 1, figsize=(4, 3), dpi=600)\n",
    "\n",
    "# Accuracy\n",
    "axs.plot(k, mlp_acc, label='Utility Acc', marker='o', markersize=3)\n",
    "axs.plot(k, mlp_mia_auc, label='MIA AUC', marker='x', color='red', markersize=5)\n",
    "axs.set_xlabel('$k$')\n",
    "axs.set_ylabel('Percentage')\n",
    "axs.legend()\n",
    "axs.grid(True, which='both', linestyle='-', linewidth=0.5)  # Make grid line width smaller\n",
    "axs.set_yticks(np.arange(50, 76, 5))\n",
    "\n",
    "# Remove upper and left borders\n",
    "axs.spines['top'].set_visible(False)\n",
    "axs.spines['right'].set_visible(False)\n",
    "plt.tight_layout()\n",
    "plt.savefig('figures/k_impact.png', dpi = 600)"
   ]
  },
  {
   "cell_type": "code",
   "execution_count": null,
   "id": "11963124",
   "metadata": {},
   "outputs": [],
   "source": [
    "# Data\n",
    "epsilon = np.array([0.5, 2.5, 5, 25, 50, 100, 250])\n",
    "mlp_acc = np.array([50.59, 51.74, 55.59, 58.95, 62.53, 62.82, 63.22])\n",
    "mlp_mia_auc = np.array([50.79, 50.58, 50.88, 50.97, 50.64, 50.52, 51.41])\n",
    "\n",
    "# Plotting\n",
    "fig, axs = plt.subplots(1, 1, figsize=(4, 3), dpi=600)\n",
    "\n",
    "# Accuracy\n",
    "axs.plot(epsilon, mlp_acc, label='Utility Acc', marker='o', markersize=3)\n",
    "axs.plot(epsilon, mlp_mia_auc, label='MIA AUC', marker='x', color='red', markersize=5)\n",
    "axs.set_xlabel('$\\epsilon$')\n",
    "axs.set_ylabel('Percentage')\n",
    "axs.legend()\n",
    "axs.grid(True, which='both', linestyle='-', linewidth=0.5)  # Make grid line width smaller\n",
    "axs.set_yticks(np.arange(50, 65, 2))\n",
    "\n",
    "# Remove upper and left borders\n",
    "axs.spines['top'].set_visible(False)\n",
    "axs.spines['right'].set_visible(False)\n",
    "plt.tight_layout()\n",
    "plt.savefig('figures/e_impact.png', dpi = 600)"
   ]
  },
  {
   "cell_type": "code",
   "execution_count": null,
   "id": "160333fe",
   "metadata": {},
   "outputs": [],
   "source": []
  }
 ],
 "metadata": {
  "kernelspec": {
   "display_name": "Python 3 (ipykernel)",
   "language": "python",
   "name": "python3"
  },
  "language_info": {
   "codemirror_mode": {
    "name": "ipython",
    "version": 3
   },
   "file_extension": ".py",
   "mimetype": "text/x-python",
   "name": "python",
   "nbconvert_exporter": "python",
   "pygments_lexer": "ipython3",
   "version": "3.8.16"
  }
 },
 "nbformat": 4,
 "nbformat_minor": 5
}
